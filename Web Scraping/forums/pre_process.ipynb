{
 "cells": [
  {
   "cell_type": "markdown",
   "metadata": {},
   "source": [
    "## Introduction:\n",
    "This script is designed to analyze and preprocess text data from scraped comments across various online forums. It performs tasks such as cleaning text data, identifying questions, applying TF-IDF vectorization, and generating n-grams. The goal is to provide insights and patterns within the text data for further analysis.\n",
    "\n",
    "## Required Libraries:\n",
    "The following Python libraries are used in this script:\n",
    "\n",
    "- pandas: For data manipulation and analysis.\n",
    "- better_profanity: For identifying and replacing profanity words (commented out).\n",
    "- swifter: For accelerating text data processing.\n",
    "- regex: For working with regular expressions.\n",
    "- tqdm: For displaying progress bars.\n",
    "- textblob: For natural language processing tasks.\n",
    "- nltk: For text processing tasks like tokenization and lemmatization.\n",
    "- sklearn: For performing TF-IDF vectorization.\n",
    "\n",
    "## Script Explanation:\n",
    "1. Reading Dataframes: Reading all the different files and processing them to be concantinated into one dataframe\n",
    "\n",
    "2. Pre-Processing Data: The pre_process function is defined to clean the text data:\n",
    "\n",
    "    - Lowercasing text.\n",
    "    - Identifying questions using specific patterns.\n",
    "    - Removing usernames and unwanted characters.\n",
    "    - Lemmatizing words.\n",
    "    - Removing profanity words .\n",
    "    - Applying Pre-Processing: The pre_process function is applied to the merged DataFrame to clean the text data.\n",
    "\n",
    "3. Pie Chart Visualization: A pie chart is created to visualize the distribution of comment types in the merged DataFrame.\n",
    "\n",
    "4. Saving and Loading Data: The pre-processed DataFrame is saved to a CSV file named \"merged.csv\" and later read back into a DataFrame for further filter as to skip preprocessing the data everytime the data is to be filtered and analysed\n",
    "\n",
    "5. Filtering Questions: The DataFrame is filtered to retain only rows with identified questions.\n",
    "\n",
    "6. Calculating Question Counts per Type: The script calculates the number of questions asked for each comment type in the filtered DataFrame.\n",
    "\n",
    "7. TF-IDF Vectorization: The tfidf_comments function calculates TF-IDF scores for words in the comments and saves the vocabulary and counts to separate CSV files.\n",
    "\n",
    "8. Generating n-grams: For the \"cancer\" forum type, the script generates bigrams from the comments and creates a DataFrame containing counts of different n-grams.\n",
    "\n",
    "## How to Use:\n",
    "- Ensure you have the required libraries installed using pip install pandas better_profanity swifter regex tqdm textblob nltk scikit-learn.\n",
    "\n",
    "- Update the file paths for the CSV files containing scraped data in the script.\n",
    "\n",
    "- Run the script in a Python environment.\n",
    "\n",
    "- After execution, the script will generate cleaned data in a DataFrame, perform analysis on question distribution, perform TF-IDF vectorization, and generate n-grams for specific forum types.\n",
    "\n",
    "- You can explore and analyze the generated outputs for insights and patterns within the text data."
   ]
  },
  {
   "cell_type": "code",
   "execution_count": 33,
   "metadata": {},
   "outputs": [],
   "source": [
    "import pandas as pd\n",
    "from better_profanity import profanity\n",
    "import swifter\n",
    "import regex as re\n",
    "from tqdm.notebook import tqdm\n",
    "from textblob import TextBlob\n",
    "from collections import Counter\n",
    "\n",
    "tqdm.pandas()"
   ]
  },
  {
   "cell_type": "code",
   "execution_count": 2,
   "metadata": {},
   "outputs": [],
   "source": [
    "pd.set_option('display.max_colwidth', 1)\n"
   ]
  },
  {
   "attachments": {},
   "cell_type": "markdown",
   "metadata": {},
   "source": [
    "## Reading the scaraped data"
   ]
  },
  {
   "cell_type": "code",
   "execution_count": 5,
   "metadata": {},
   "outputs": [],
   "source": [
    "reddit_file = 'Z://Year 2//Programming//DAC//External Project//csvs//Scrapped_Data//reddit.csv'\n",
    "effective_forum_file = 'Z://Year 2//Programming//DAC//External Project//csvs//Scrapped_Data//effectivealtruism_antidepressants.csv'\n",
    "cancer_forum_file = 'Z://Year 2//Programming//DAC//External Project//csvs//Scrapped_Data//cancer_research.csv'\n",
    "anti_depressant_file = 'Z://Year 2//Programming//DAC//External Project//csvs//Scrapped_Data//symptoms_and_withdrawals.csv'"
   ]
  },
  {
   "cell_type": "code",
   "execution_count": 6,
   "metadata": {},
   "outputs": [],
   "source": [
    "reddit_df = pd.read_csv(reddit_file)\n",
    "effective_forum_df = pd.read_csv(effective_forum_file)\n",
    "cancer_forum_df = pd.read_csv(cancer_forum_file)\n",
    "anti_depressant_df = pd.read_csv(anti_depressant_file)"
   ]
  },
  {
   "cell_type": "code",
   "execution_count": null,
   "metadata": {},
   "outputs": [],
   "source": [
    "anti_depressant_df.head(3)"
   ]
  },
  {
   "attachments": {},
   "cell_type": "markdown",
   "metadata": {},
   "source": [
    "Processing the anti_depressent scraped data to be esaily merged with the other data"
   ]
  },
  {
   "cell_type": "code",
   "execution_count": 7,
   "metadata": {},
   "outputs": [],
   "source": [
    "anti_depressant_df['year'] = anti_depressant_df['Date'].str.extract(r'(\\d+)$')\n",
    "anti_depressant_df = anti_depressant_df.query('year >= \"2018\" & Comment.notnull()')\n",
    "anti_depressant_df['type'] = 'anti-depressants'"
   ]
  },
  {
   "cell_type": "code",
   "execution_count": null,
   "metadata": {},
   "outputs": [],
   "source": [
    "anti_depressant_df.head(3)"
   ]
  },
  {
   "attachments": {},
   "cell_type": "markdown",
   "metadata": {},
   "source": [
    "### Merging all the scraped data into 1 dataframe"
   ]
  },
  {
   "cell_type": "code",
   "execution_count": 8,
   "metadata": {},
   "outputs": [],
   "source": [
    "merged_df = pd.concat([anti_depressant_df[['Comment','type' ]]\\\n",
    "                       .rename(columns={'Comment' : 'comments'}),\n",
    "                        reddit_df, effective_forum_df , cancer_forum_df ] , \n",
    "                       ignore_index=True)"
   ]
  },
  {
   "attachments": {},
   "cell_type": "markdown",
   "metadata": {},
   "source": [
    "## Pre-Processing data"
   ]
  },
  {
   "cell_type": "code",
   "execution_count": 9,
   "metadata": {},
   "outputs": [],
   "source": [
    "import nltk\n",
    "from nltk.corpus import stopwords\n",
    "from nltk.stem import WordNetLemmatizer\n",
    "\n",
    "stopwords = set(stopwords.words('english'))\n",
    "lemmatizer = WordNetLemmatizer()"
   ]
  },
  {
   "cell_type": "code",
   "execution_count": 10,
   "metadata": {},
   "outputs": [],
   "source": [
    "def lemmatize_words(text):\n",
    "    \"\"\"custom function to lemmatize the words\"\"\"\n",
    "    return \" \".join([lemmatizer.lemmatize(word) for word in text.split(' ')])"
   ]
  },
  {
   "cell_type": "code",
   "execution_count": 65,
   "metadata": {},
   "outputs": [],
   "source": [
    "def pre_process(dataframe):\n",
    "\n",
    "    '''\n",
    "    This Function performs the pre-processing of the dataframe \n",
    "\n",
    "    args:\n",
    "        dataframe: The dataframe to be preprocessed\n",
    "    \n",
    "    Functions:\n",
    "        \n",
    "        the following are the steps taken to proprocess the data\n",
    "\n",
    "        1) Lower case tranformation\n",
    "        2) Creating a column to indicate if the text was a question \n",
    "        3) Removing alphabets\n",
    "        4) Removing WhiteSpace\n",
    "        5) Removing numeric values\n",
    "        6) Removing Punctuations\n",
    "        7) Removing Emojis & other image related symbolds\n",
    "        8) Lemmatizing the words\n",
    "        9) Removing Profanity words \n",
    "    \n",
    "    '''\n",
    "    \n",
    "    #converts text to lowercase\n",
    "    dataframe['comments'] = dataframe['comments'].apply(lambda x: x.lower())\n",
    "\n",
    "    quesion_finidng_patterns =  r'do i|do you|what|who|is it|why|would you|how|is there|' \\\n",
    "                           r'are there|is it so|is this true|to know|is that true|are we|' \\\n",
    "                           r'am i|question is|tell me more|can i|can we|tell me|' \\\n",
    "                           r'can you explain|question|answer|questions|answers|ask|\\?'\n",
    "    \n",
    "\n",
    "\n",
    "    dataframe['question'] = dataframe['comments'].str.extract(f'({quesion_finidng_patterns})', flags=re.IGNORECASE)\n",
    "\n",
    "    #Remove usernames  of certain comments\n",
    "    dataframe['comments'] = dataframe['comments'].str.replace(r\"on.+\\d+.+\\w+\\s*said\\W\", \" \")\n",
    "\n",
    "    #remove single alphabets\n",
    "    dataframe['comments'] = dataframe['comments'].str.replace(r'[^a-z\\s]', ' ')\n",
    "\n",
    "    #Removes any other whitespace \n",
    "    dataframe['comments'] = dataframe['comments'].str.replace(r'\\n|\\t|\\\\w|\\s', ' ')\n",
    "\n",
    "    #remove numbers\n",
    "    dataframe['comments'] = dataframe['comments'].str.replace(r\"\\d\", \" \")\n",
    "\n",
    "    #remove Hyperlinks\n",
    "    dataframe['comments'] = dataframe['comments'].str.replace(r\"<.*?>+|https?://\\S+|www\\.\\S+\", \" \")\n",
    "    \n",
    "    #Remove all punctionations\n",
    "    dataframe['comments'] = dataframe['comments'].str.replace(r\"[^\\w\\s]|_\", \" \")\n",
    "\n",
    "    #Removing Emojis and any other image related symbols\n",
    "    emoji_pattern = re.compile(\"[\"\n",
    "        u\"\\U0001F600-\\U0001F64F\"  # emoji\n",
    "        u\"\\U0001F300-\\U0001F5FF\"  # symbols & pictographs\n",
    "        u\"\\U0001F680-\\U0001F6FF\"  # transport & map symbols\n",
    "        u\"\\U0001F1E0-\\U0001F1FF\"  # flags (iOS)\n",
    "        u\"\\U00002702-\\U000027B0\"\n",
    "        u\"\\U000024C2-\\U0001F251\" \n",
    "                           \"]+\", flags=re.UNICODE)\n",
    "    \n",
    "    dataframe['comments'] = dataframe['comments'].apply(lambda x: emoji_pattern.sub(r' ', x))\n",
    "\n",
    "    #Lemmatize the words\n",
    "    print('Lemmatizing Words')\n",
    "    dataframe['comments'] = dataframe['comments'].swifter.apply(lemmatize_words) \n",
    "\n",
    "    print('Removing Profanity')\n",
    "    dataframe['comments'] = dataframe['comments'].swifter.apply(profanity.censor)\n",
    "    dataframe['comments'] = dataframe['comments'].str.replace(r'\\*+', ' ')"
   ]
  },
  {
   "cell_type": "code",
   "execution_count": null,
   "metadata": {},
   "outputs": [],
   "source": [
    "#Call Function to pre process the text\n",
    "pre_process(merged_df)"
   ]
  },
  {
   "cell_type": "code",
   "execution_count": 13,
   "metadata": {},
   "outputs": [
    {
     "data": {
      "text/plain": [
       "<Axes: ylabel='type'>"
      ]
     },
     "execution_count": 13,
     "metadata": {},
     "output_type": "execute_result"
    },
    {
     "data": {
      "image/png": "[encoded data removed]",
      "text/plain": [
       "<Figure size 640x480 with 1 Axes>"
      ]
     },
     "metadata": {},
     "output_type": "display_data"
    }
   ],
   "source": [
    "#View the propotition of commment types we have\n",
    "merged_df.type.value_counts().plot(kind='pie')"
   ]
  },
  {
   "cell_type": "code",
   "execution_count": 20,
   "metadata": {},
   "outputs": [],
   "source": [
    "merged_df.to_csv('merged.csv',index=False)"
   ]
  },
  {
   "cell_type": "code",
   "execution_count": 66,
   "metadata": {},
   "outputs": [],
   "source": [
    "merged_df = pd.read_csv('merged.csv')"
   ]
  },
  {
   "cell_type": "code",
   "execution_count": 68,
   "metadata": {},
   "outputs": [],
   "source": [
    "#return only questions that were asked\n",
    "comments_questions = merged_df.query('question.notnull()').reset_index(drop=True)"
   ]
  },
  {
   "cell_type": "code",
   "execution_count": 69,
   "metadata": {},
   "outputs": [
    {
     "data": {
      "text/plain": [
       "anti-depressants    9643\n",
       "cancer              1477\n",
       "other               847 \n",
       "covid               99  \n",
       "Name: type, dtype: int64"
      ]
     },
     "execution_count": 69,
     "metadata": {},
     "output_type": "execute_result"
    }
   ],
   "source": [
    "#Number of questions asked per comment type\n",
    "comments_questions.type.value_counts()"
   ]
  },
  {
   "attachments": {},
   "cell_type": "markdown",
   "metadata": {},
   "source": [
    "### Performing TFIDF"
   ]
  },
  {
   "cell_type": "code",
   "execution_count": 18,
   "metadata": {},
   "outputs": [],
   "source": [
    "from sklearn.feature_extraction.text import TfidfVectorizer"
   ]
  },
  {
   "cell_type": "code",
   "execution_count": 19,
   "metadata": {},
   "outputs": [],
   "source": [
    "def tfidf_comments(forum_types):\n",
    "    '''\n",
    "    This function performs TFIDF vectorization on the text and creates a csv file \n",
    "\n",
    "    args: \n",
    "        forum_types : a list containing the comment types\n",
    "    \n",
    "    function: \n",
    "        creates csv file containing each unique word and its number of occurances\n",
    "    '''\n",
    "    for forum in forum_types:\n",
    "\n",
    "        #query to obtain a dataframe of the specified type\n",
    "        df = comments_questions.query('type == @forum ')\n",
    "        \n",
    "        tfidf = TfidfVectorizer()\n",
    "        X= tfidf.fit_transform(df['comments'])\n",
    "\n",
    "        #Creation of the csv file\n",
    "        filename = 'csvs//tfidf_'+ forum + '.csv'\n",
    "        pd.DataFrame(list(tfidf.vocabulary_.items()), columns=['word', 'count']).to_csv(filename , index=False)\n"
   ]
  },
  {
   "cell_type": "code",
   "execution_count": 70,
   "metadata": {},
   "outputs": [],
   "source": [
    "cancer_qts = comments_questions.query('type == \"cancer\"')"
   ]
  },
  {
   "cell_type": "code",
   "execution_count": 81,
   "metadata": {},
   "outputs": [],
   "source": [
    "def generate_ngrams(text, n):\n",
    "    words = text.split()\n",
    "    ngrams = [' '.join(words[i:i+n]) for i in range(len(words)-n+1)]\n",
    "    return ngrams\n",
    "\n",
    "n = 2\n",
    "a = cancer_qts['comments'].apply(lambda x : generate_ngrams(x , n))\n"
   ]
  },
  {
   "cell_type": "code",
   "execution_count": 94,
   "metadata": {},
   "outputs": [],
   "source": [
    "ngram_counts = dict(Counter([ngram for ngrams in a for ngram in ngrams]))"
   ]
  },
  {
   "cell_type": "code",
   "execution_count": 95,
   "metadata": {},
   "outputs": [],
   "source": [
    "ngram_counts = pd.DataFrame({'ngrams':ngram_counts})"
   ]
  }
 ],
 "metadata": {
  "kernelspec": {
   "display_name": "py311",
   "language": "python",
   "name": "python3"
  },
  "language_info": {
   "codemirror_mode": {
    "name": "ipython",
    "version": 3
   },
   "file_extension": ".py",
   "mimetype": "text/x-python",
   "name": "python",
   "nbconvert_exporter": "python",
   "pygments_lexer": "ipython3",
   "version": "3.10.9"
  },
  "orig_nbformat": 4
 },
 "nbformat": 4,
 "nbformat_minor": 2
}
