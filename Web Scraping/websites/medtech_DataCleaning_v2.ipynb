{
 "cells": [
  {
   "cell_type": "code",
   "execution_count": null,
   "metadata": {},
   "outputs": [],
   "source": [
    "import pandas as pd\n",
    "import numpy as np\n",
    "import matplotlib.pyplot as plt"
   ]
  },
  {
   "cell_type": "code",
   "execution_count": null,
   "metadata": {},
   "outputs": [],
   "source": [
    "df1 = pd.read_csv('C:/Users/jerra/Desktop/DAC Projects/ProjectFlux/Clinical Trials Website Webscrape/1st_Clinical_Trials_WebScrape.csv')\n",
    "df2 = pd.read_csv('C:/Users/jerra/Desktop/DAC Projects/ProjectFlux/Clinical Trials Website Webscrape/2nd_Clinical_Trials_WebScrape.csv')\n",
    "df3 = pd.read_csv('C:/Users/jerra/Desktop/DAC Projects/ProjectFlux/Clinical Trials Website Webscrape/3rd_Clinical_Trials_WebScrape.csv')\n",
    "df4 = pd.read_csv('C:/Users/jerra/Desktop/DAC Projects/ProjectFlux/Clinical Trials Website Webscrape/4th_Clinical_Trials_WebScrape.csv')\n",
    "df5 = pd.read_csv('C:/Users/jerra/Desktop/DAC Projects/ProjectFlux/Clinical Trials Website Webscrape/5th_Clinical_Trials_WebScrape.csv')\n",
    "df6 = pd.read_csv('C:/Users/jerra/Desktop/DAC Projects/ProjectFlux/Clinical Trials Website Webscrape/6th_Clinical_Trials_WebScrape.csv')\n",
    "df7 = pd.read_csv('C:/Users/jerra/Desktop/DAC Projects/ProjectFlux/Clinical Trials Website Webscrape/7th_Clinical_Trials_WebScrape.csv')\n",
    "df8 = pd.read_csv('C:/Users/jerra/Desktop/DAC Projects/ProjectFlux/Clinical Trials Website Webscrape/8th_Clinical_Trials_WebScrape.csv')\n",
    "df9 = pd.read_csv('C:/Users/jerra/Desktop/DAC Projects/ProjectFlux/Clinical Trials Website Webscrape/9th_Clinical_Trials_WebScrape.csv')\n",
    "df10 = pd.read_csv('C:/Users/jerra/Desktop/DAC Projects/ProjectFlux/Clinical Trials Website Webscrape/10th_Clinical_Trials_WebScrape.csv')\n",
    "df11 = pd.read_csv('C:/Users/jerra/Desktop/DAC Projects/ProjectFlux/Clinical Trials Website Webscrape/11th_Clinical_Trials_WebScrape.csv')\n",
    "df12 = pd.read_csv('C:/Users/jerra/Desktop/DAC Projects/ProjectFlux/Clinical Trials Website Webscrape/12th_Clinical_Trials_WebScrape.csv')\n",
    "df13 = pd.read_csv('C:/Users/jerra/Desktop/DAC Projects/ProjectFlux/Clinical Trials Website Webscrape/13th_Clinical_Trials_WebScrape.csv')\n",
    "df14 = pd.read_csv('C:/Users/jerra/Desktop/DAC Projects/ProjectFlux/Clinical Trials Website Webscrape/14th_Clinical_Trials_WebScrape.csv')\n",
    "df15 = pd.read_csv('C:/Users/jerra/Desktop/DAC Projects/ProjectFlux/Clinical Trials Website Webscrape/15th_Clinical_Trials_WebScrape.csv')\n",
    "df16 = pd.read_csv('C:/Users/jerra/Desktop/DAC Projects/ProjectFlux/Clinical Trials Website Webscrape/16th_Clinical_Trials_WebScrape.csv')\n",
    "df17 = pd.read_csv('C:/Users/jerra/Desktop/DAC Projects/ProjectFlux/Clinical Trials Website Webscrape/17th_Clinical_Trials_WebScrape.csv')\n",
    "\n",
    "data = pd.concat([df1, df2, df3, df4, df5, df6, df7, df8, df9, df10, df11, df12, df13, df14, df15, df16, df17], ignore_index=True)"
   ]
  },
  {
   "cell_type": "code",
   "execution_count": null,
   "metadata": {},
   "outputs": [],
   "source": [
    "data.to_csv('C:/Users/jerra/Desktop/DAC Projects/ProjectFlux/Clinical Trials Website Webscrape/Clinical_Trials_Website_Webscrape.csv', index = False)"
   ]
  },
  {
   "cell_type": "code",
   "execution_count": null,
   "metadata": {},
   "outputs": [],
   "source": [
    "#reading the csv file\n",
    "data = pd.read_csv('C:/Users/jerra/Desktop/DAC Projects/ProjectFlux/Clinical Trials Website Webscrape/Clinical_Trials_Website_Webscrape.csv')\n",
    "\n",
    "#displaying data\n",
    "data.head(10)"
   ]
  },
  {
   "cell_type": "code",
   "execution_count": null,
   "metadata": {},
   "outputs": [],
   "source": [
    "#getting the most common conditions within our data\n",
    "condition_counts = data[\"Condition\"].value_counts()\n",
    "condition_counts"
   ]
  },
  {
   "cell_type": "code",
   "execution_count": null,
   "metadata": {},
   "outputs": [],
   "source": [
    "#regular expression to search \"covid\" or \"covid-19\" variations\n",
    "Covid_keyword = r'covid-?19'\n",
    "covid = data[\"Condition\"].str.contains(Covid_keyword, case = False, regex = True)\n",
    "covid_df = data[covid]\n",
    "\n",
    "#covid dataset\n",
    "covid_df"
   ]
  },
  {
   "cell_type": "code",
   "execution_count": null,
   "metadata": {},
   "outputs": [],
   "source": [
    "#cancer dataset\n",
    "Cancer_keyword = 'cancer'\n",
    "cancer = data[\"Condition\"].str.contains(Cancer_keyword, case = False)\n",
    "cancer_df = data[cancer]\n",
    "cancer_df"
   ]
  },
  {
   "cell_type": "code",
   "execution_count": null,
   "metadata": {},
   "outputs": [],
   "source": [
    "#depression-related dataset\n",
    "Depression_keyword = 'depression'\n",
    "depression = data[\"Condition\"].str.contains(Depression_keyword, case = False)\n",
    "depression_df = data[depression]\n",
    "depression_df"
   ]
  },
  {
   "cell_type": "code",
   "execution_count": null,
   "metadata": {},
   "outputs": [],
   "source": [
    "#merging datasets\n",
    "datasets = [covid_df, cancer_df, depression_df]\n",
    "merged_df = pd.concat(datasets, axis = 0)\n",
    "merged_df"
   ]
  },
  {
   "cell_type": "code",
   "execution_count": null,
   "metadata": {},
   "outputs": [],
   "source": [
    "#Getting the number of covid cases within dataset\n",
    "covid_keyword = r'covid-?19'\n",
    "covid = data[\"Condition\"].str.contains(Covid_keyword, case = False, regex = True)\n",
    "covid_counts = covid.sum()\n",
    "\n",
    "#getting number of cancer cases within dataset\n",
    "Cancer_keyword = 'cancer'\n",
    "cancer = data[\"Condition\"].str.contains(Cancer_keyword, case = False)\n",
    "cancer_counts = cancer.sum()\n",
    "\n",
    "#getting number of depression-related cases within dataset\n",
    "Depression_keyword = 'depression'\n",
    "depression = data[\"Condition\"].str.contains(Depression_keyword, case = False)\n",
    "depression_counts = depression.sum()\n",
    "\n",
    "print(f'The total number of covid cases are {covid_counts}.')\n",
    "print(f'The total number of Cancer cases are {cancer_counts}.')\n",
    "print(f'The total number of depression-related cases are {depression_counts}.')"
   ]
  },
  {
   "cell_type": "code",
   "execution_count": null,
   "metadata": {},
   "outputs": [],
   "source": [
    "#visualizing dataset\n",
    "x = [\"Covid\", \"Cancer\", \"Depression\"]\n",
    "y = [covid_counts, cancer_counts, depression_counts]\n",
    "plt.bar(x, y)\n",
    "plt.show()"
   ]
  },
  {
   "cell_type": "code",
   "execution_count": null,
   "metadata": {},
   "outputs": [],
   "source": [
    "#converting to csv\n",
    "merged_df.to_csv('C:/Users/jerra/Desktop/DAC Projects/ProjectFlux/Clinical Trials Website Webscrape/merged_df.csv', index = False)"
   ]
  },
  {
   "cell_type": "code",
   "execution_count": null,
   "metadata": {},
   "outputs": [],
   "source": [
    "# counting the number of gender trials\n",
    "all_gender_keyword = 'Sexes Eligible for Study: All'\n",
    "all_gender = merged_df[\"Gender\"].str.contains(all_gender_keyword, case = False)\n",
    "all_gender_df = merged_df[all_gender]\n",
    "all_gender_counts = all_gender.sum()\n",
    "\n",
    "print(f'The total number of all gender cases are {all_gender_counts}.')"
   ]
  },
  {
   "cell_type": "code",
   "execution_count": null,
   "metadata": {},
   "outputs": [],
   "source": [
    "all_gender_df.to_csv('C:/Users/jerra/Desktop/DAC Projects/ProjectFlux/Clinical Trials Website Webscrape/all_gender_df.csv')"
   ]
  }
 ],
 "metadata": {
  "kernelspec": {
   "display_name": "base",
   "language": "python",
   "name": "python3"
  },
  "language_info": {
   "codemirror_mode": {
    "name": "ipython",
    "version": 3
   },
   "file_extension": ".py",
   "mimetype": "text/x-python",
   "name": "python",
   "nbconvert_exporter": "python",
   "pygments_lexer": "ipython3",
   "version": "3.9.13"
  },
  "orig_nbformat": 4,
  "vscode": {
   "interpreter": {
    "hash": "0bf6e1b653197ed18bdb89d3ff29b8ff5350bc505c953ded8b1c400e31a79000"
   }
  }
 },
 "nbformat": 4,
 "nbformat_minor": 2
}
